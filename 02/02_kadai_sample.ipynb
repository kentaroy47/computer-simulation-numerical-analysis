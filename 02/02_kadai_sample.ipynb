{
 "cells": [
  {
   "attachments": {},
   "cell_type": "markdown",
   "metadata": {},
   "source": [
    "# コンピュータ・シミュレーション同演習\n",
    "第2回 20XX年X月X日\n",
    "\n",
    "学籍番号123456 E科 吉岡健太郎"
   ]
  },
  {
   "attachments": {},
   "cell_type": "markdown",
   "metadata": {},
   "source": [
    "# 1. 課題\n",
    "Numpyを用いて次の計算をしなさい"
   ]
  },
  {
   "attachments": {},
   "cell_type": "markdown",
   "metadata": {},
   "source": [
    "# 2. コードと実行結果"
   ]
  },
  {
   "cell_type": "code",
   "execution_count": 21,
   "metadata": {},
   "outputs": [
    {
     "name": "stdout",
     "output_type": "stream",
     "text": [
      "x = 5250, データ型はint32\n"
     ]
    }
   ],
   "source": [
    "import numpy as np\n",
    "\n",
    "# 1)\n",
    "a = np.array(25).astype(\"int32\")\n",
    "b = np.array(7).astype(\"int32\")\n",
    "c = np.array(30).astype(\"int32\")\n",
    "\n",
    "x = a * c * b\n",
    "\n",
    "print(\"x = {}, データ型は{}\".format(x, x.dtype))"
   ]
  },
  {
   "cell_type": "code",
   "execution_count": 22,
   "metadata": {},
   "outputs": [
    {
     "name": "stdout",
     "output_type": "stream",
     "text": [
      "y = 5250.0, データ型はfloat64\n"
     ]
    }
   ],
   "source": [
    "# 2)\n"
   ]
  },
  {
   "attachments": {},
   "cell_type": "markdown",
   "metadata": {},
   "source": [
    "# 3.考察\n",
    "\n",
    "実行結果から課題で気づいた点\n",
    "\n",
    "その他、結果から気づいた点などを考察する。"
   ]
  },
  {
   "attachments": {},
   "cell_type": "markdown",
   "metadata": {},
   "source": [
    "# 4. ChatGPT利用\n",
    "ChatGPTを利用したか、また利用した場合はどのようなPromptを利用したかを記述する。"
   ]
  },
  {
   "cell_type": "markdown",
   "metadata": {},
   "source": []
  }
 ],
 "metadata": {
  "kernelspec": {
   "display_name": "pytorch",
   "language": "python",
   "name": "python3"
  },
  "language_info": {
   "codemirror_mode": {
    "name": "ipython",
    "version": 3
   },
   "file_extension": ".py",
   "mimetype": "text/x-python",
   "name": "python",
   "nbconvert_exporter": "python",
   "pygments_lexer": "ipython3",
   "version": "3.7.10"
  },
  "orig_nbformat": 4
 },
 "nbformat": 4,
 "nbformat_minor": 2
}
