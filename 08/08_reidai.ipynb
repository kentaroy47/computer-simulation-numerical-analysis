{
 "cells": [
  {
   "attachments": {},
   "cell_type": "markdown",
   "metadata": {},
   "source": [
    "# 例題8-1"
   ]
  },
  {
   "attachments": {},
   "cell_type": "markdown",
   "metadata": {},
   "source": [
    "関数の微分係数を前進差分、後退差分、中心差分について求めなさい"
   ]
  },
  {
   "cell_type": "code",
   "execution_count": 4,
   "metadata": {},
   "outputs": [
    {
     "name": "stdout",
     "output_type": "stream",
     "text": [
      "h= 1 差分値： 0.0678264420177852 誤差： 0.47247586385035456\n",
      "h= 0.1 差分値： 0.4973637525353891 誤差： 0.04293855333275065\n",
      "h= 0.01 差分値： 0.536085981011869 誤差： 0.00421632485627077\n",
      "h= 0.001 差分値： 0.5398814803603269 誤差： 0.0004208255078128609\n",
      "h= 0.0001 差分値： 0.5402602314186211 誤差： 4.207444951864758e-05\n",
      "h= 1e-05 差分値： 0.5402980985058647 誤差： 4.207362275021609e-06\n"
     ]
    }
   ],
   "source": [
    "import numpy as np\n",
    "\n",
    "def f(x):\n",
    "    return np.sin(x)\n",
    "\n",
    "# 前進差分\n",
    "x = 1\n",
    "df0 = np.cos(x) # 解析値\n",
    "for i in range(6):\n",
    "    h = 10**(-i)\n",
    "    df1 = (f(x+h) - f(x))/h\n",
    "    print(\"h=\", h, \"差分値：\", df1, \"誤差：\", df0-df1)"
   ]
  },
  {
   "cell_type": "code",
   "execution_count": 5,
   "metadata": {},
   "outputs": [
    {
     "name": "stdout",
     "output_type": "stream",
     "text": [
      "h= 1 差分値： 0.8414709848078965 誤差： -0.30116867893975674\n",
      "h= 0.1 差分値： 0.5814407518041309 誤差： -0.04113844593599114\n",
      "h= 0.01 差分値： 0.544500620737598 誤差： -0.004198314869458208\n",
      "h= 0.001 差分値： 0.5407229512750522 誤差： -0.00042064540691244545\n",
      "h= 0.0001 差分値： 0.5403443785167994 誤差： -4.207264865963012e-05\n",
      "h= 1e-05 差分値： 0.540306513208133 誤差： -4.207339993289594e-06\n"
     ]
    }
   ],
   "source": [
    "# 後退差分\n",
    "x = 1\n",
    "df0 = np.cos(x) # 解析値\n",
    "for i in range(6):\n",
    "    h = 10**(-i)\n",
    "    df1 = (f(x) - f(x-h))/h\n",
    "    print(\"h=\", h, \"差分値：\", df1, \"誤差：\", df0-df1)"
   ]
  },
  {
   "cell_type": "code",
   "execution_count": 6,
   "metadata": {},
   "outputs": [
    {
     "name": "stdout",
     "output_type": "stream",
     "text": [
      "h= 1 差分値： 0.5180694479998514 誤差： 0.022232857868288325\n",
      "h= 0.1 差分値： 0.5400772080464322 誤差： 0.00022509782170754278\n",
      "h= 0.01 差分値： 0.5403000546113423 誤差： 2.2512567974253272e-06\n",
      "h= 0.001 差分値： 0.5403022833555537 誤差： 2.251258601759787e-08\n",
      "h= 0.0001 差分値： 0.5403023056438361 誤差： 2.2430368673553858e-10\n",
      "h= 1e-05 差分値： 0.5403023058736522 誤差： -5.512479361868827e-12\n"
     ]
    }
   ],
   "source": [
    "# 中心差分\n",
    "x = 1\n",
    "df0 = np.cos(x) # 解析値\n",
    "for i in range(6):\n",
    "    h = 10**(-i)\n",
    "    df1 = (f(x+h/2) - f(x-h/2))/h\n",
    "    print(\"h=\", h, \"差分値：\", df1, \"誤差：\", df0-df1)"
   ]
  },
  {
   "attachments": {},
   "cell_type": "markdown",
   "metadata": {},
   "source": [
    "# 8.2\n",
    "$sinx$の$x=1$における二階微分係数を求めなさい"
   ]
  },
  {
   "cell_type": "code",
   "execution_count": 14,
   "metadata": {},
   "outputs": [
    {
     "name": "stdout",
     "output_type": "stream",
     "text": [
      "h= 1  前進差分誤差： 0.005467124024296721  後退差分誤差： 0.8414709848078965  中心差分誤差： 0.0678264420177852\n",
      "h= 0.1  前進差分誤差： 0.0489939499669072  後退差分誤差： 0.058796630053143395  中心差分誤差： 0.000700992120478694\n",
      "h= 0.01  前進差分誤差： 0.005353802901247429  後退差分誤差： 0.0054519730672113464  中心差分誤差： 7.012234998660105e-06\n",
      "h= 0.001  前進差分誤差： 0.0005398111682259898  後退差分誤差： 0.0005407928824590069  中心差分誤差： 7.008259017560192e-08\n",
      "h= 0.0001  前進差分誤差： 5.4031529489018126e-05  後退差分誤差： 5.403757972799461e-05  中心差分誤差： 3.025119488242467e-09\n",
      "h= 1e-05  前進差分誤差： 5.903361371406568e-06  後退差分誤差： 4.088645850219841e-06  中心差分誤差： 7.579767763443712e-07\n"
     ]
    }
   ],
   "source": [
    "x = 1\n",
    "df0 = -np.sin(x) # 解析値\n",
    "for i in range(6):\n",
    "    h = 10**(-i)\n",
    "    # 前進差分\n",
    "    df1 = (f(x+2*h) - 2*f(x+h) + f(x))/np.power(h, 2)\n",
    "    # 後退差分\n",
    "    df2 = (f(x) - 2*f(x-h) + f(x-2*h))/np.power(h, 2)\n",
    "    # 中心差分\n",
    "    df3 = (f(x+h) - 2*f(x) + f(x-h))/np.power(h, 2)\n",
    "    print(\"h=\",h,\" 前進差分誤差：\", abs(df1-df0), \" 後退差分誤差：\", abs(df2-df0), \" 中心差分誤差：\", abs(df3-df0))"
   ]
  },
  {
   "attachments": {},
   "cell_type": "markdown",
   "metadata": {},
   "source": [
    "# 7.3\n",
    "シンプソン法によって積分値を求め、不定積分の値と比較せよ"
   ]
  },
  {
   "cell_type": "code",
   "execution_count": 13,
   "metadata": {},
   "outputs": [
    {
     "name": "stdout",
     "output_type": "stream",
     "text": [
      "Exact integral value:  0.9092974268256817\n",
      "Numerical integral value:  0.9092986624371286\n",
      "Difference:  1.2356114469369572e-06\n"
     ]
    }
   ],
   "source": [
    "a = 0; b = 2; N = 16\n",
    "\n",
    "h = (b - a) / N\n",
    "sum = 0.0\n",
    "\n",
    "for i in range(0, N, 2):\n",
    "    x1 = a + i * h\n",
    "    x2 = a + (i + 1) * h\n",
    "    x3 = a + (i + 2) * h\n",
    "    sum += (h / 3) * (f(x1) + 4 * f(x2) + f(x3))\n",
    "\n",
    "exact_integral = np.sin(2)\n",
    "numerical_integral = sum\n",
    "difference = abs(exact_integral - numerical_integral)\n",
    "\n",
    "print(\"Exact integral value: \", exact_integral)\n",
    "print(\"Numerical integral value: \", numerical_integral)\n",
    "print(\"Difference: \", difference)"
   ]
  },
  {
   "cell_type": "code",
   "execution_count": null,
   "metadata": {},
   "outputs": [],
   "source": []
  }
 ],
 "metadata": {
  "kernelspec": {
   "display_name": "pytorch",
   "language": "python",
   "name": "python3"
  },
  "language_info": {
   "codemirror_mode": {
    "name": "ipython",
    "version": 3
   },
   "file_extension": ".py",
   "mimetype": "text/x-python",
   "name": "python",
   "nbconvert_exporter": "python",
   "pygments_lexer": "ipython3",
   "version": "3.7.10"
  },
  "orig_nbformat": 4
 },
 "nbformat": 4,
 "nbformat_minor": 2
}
