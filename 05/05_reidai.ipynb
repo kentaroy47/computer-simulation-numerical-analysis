{
 "cells": [
  {
   "attachments": {},
   "cell_type": "markdown",
   "metadata": {},
   "source": [
    "# 例題5-1"
   ]
  },
  {
   "attachments": {},
   "cell_type": "markdown",
   "metadata": {},
   "source": [
    "$f(x) = e^{-x} - x^2 = 0$の解をニュートン法で求める"
   ]
  },
  {
   "cell_type": "code",
   "execution_count": 4,
   "metadata": {},
   "outputs": [
    {
     "name": "stdout",
     "output_type": "stream",
     "text": [
      "1 0.7219258359976818\n",
      "2 0.7036008338681584\n",
      "3 0.7034674295409824\n",
      "4 0.7034674224983917\n"
     ]
    }
   ],
   "source": [
    "import numpy as np\n",
    "\n",
    "x0 = np.float64(0.5)\n",
    "e = np.float64(5e-5)\n",
    "\n",
    "def f(x):\n",
    "    return np.exp(-x) - np.power(x, 2)\n",
    "\n",
    "def df(x):\n",
    "    return -np.exp(-x) - 2*x\n",
    "\n",
    "for i in range(20):\n",
    "    x = x0 - f(x0) / df(x0)\n",
    "    print(i+1, x)\n",
    "    if np.abs((x-x0)/x0) < e:\n",
    "        break\n",
    "    else:\n",
    "        x0 = x"
   ]
  },
  {
   "attachments": {},
   "cell_type": "markdown",
   "metadata": {},
   "source": [
    "# 5.2"
   ]
  },
  {
   "attachments": {},
   "cell_type": "markdown",
   "metadata": {},
   "source": [
    "上記関数について二分法とニュートン法で収束性をグラフで比較せよ"
   ]
  },
  {
   "cell_type": "code",
   "execution_count": 5,
   "metadata": {},
   "outputs": [],
   "source": [
    "import matplotlib.pyplot as plt\n",
    "import numpy as np\n",
    "\n",
    "# ニュートン法\n",
    "x0 = np.float64(0.5)\n",
    "e = np.float64(5e-5)\n",
    "ans = np.float64(0.7034674224983916)\n",
    "err_newton = []\n",
    "\n",
    "for i in range(10):\n",
    "    x = x0 - f(x0) / df(x0)\n",
    "    err_newton.append(np.abs(ans-x))\n",
    "    x0 = x"
   ]
  },
  {
   "cell_type": "code",
   "execution_count": 11,
   "metadata": {},
   "outputs": [],
   "source": [
    "# 二分法\n",
    "a = np.float32(1.)\n",
    "b = np.float32(0)\n",
    "err_nibun = []\n",
    "\n",
    "for i in range(10):\n",
    "    c = (a+b)/2\n",
    "    if f(c) > 0:\n",
    "        b = c\n",
    "    else:\n",
    "        a = c\n",
    "    err_nibun.append(np.abs(ans - c))"
   ]
  },
  {
   "cell_type": "code",
   "execution_count": 13,
   "metadata": {},
   "outputs": [
    {
     "data": {
      "text/plain": [
       "Text(0, 0.5, '誤差')"
      ]
     },
     "execution_count": 13,
     "metadata": {},
     "output_type": "execute_result"
    },
    {
     "data": {
      "image/png": "[encoded data removed]",
      "text/plain": [
       "<Figure size 432x288 with 1 Axes>"
      ]
     },
     "metadata": {
      "needs_background": "light"
     },
     "output_type": "display_data"
    }
   ],
   "source": [
    "# グラフにプロット\n",
    "plt.plot(err_newton, label=\"Newton\")\n",
    "plt.plot(err_nibun, label=\"Bisection\")\n",
    "plt.legend()\n",
    "plt.xlabel(\"試行回数\", fontname = 'MS Gothic')#日本語用\n",
    "plt.ylabel(\"誤差\", fontname = 'MS Gothic')"
   ]
  },
  {
   "attachments": {},
   "cell_type": "markdown",
   "metadata": {},
   "source": [
    "# 5.3\n",
    "\n",
    "微分係数を数値微分（差分」によって求めよ"
   ]
  },
  {
   "cell_type": "code",
   "execution_count": 17,
   "metadata": {},
   "outputs": [
    {
     "data": {
      "text/plain": [
       "0.5402980985058647"
      ]
     },
     "execution_count": 17,
     "metadata": {},
     "output_type": "execute_result"
    }
   ],
   "source": [
    "h = np.float64(0.01)\n",
    "x = np.float64(1.0)\n",
    "dx = (np.sin(x+h)-np.sin(x))/h\n",
    "dx"
   ]
  },
  {
   "attachments": {},
   "cell_type": "markdown",
   "metadata": {},
   "source": [
    "# 5.4\n",
    "差分幅hを1から1/10ずつ$10^{-15}$まで小さくし、誤差の変化をグラフで示せ。"
   ]
  },
  {
   "cell_type": "code",
   "execution_count": 31,
   "metadata": {},
   "outputs": [
    {
     "data": {
      "image/png": "[encoded data removed]",
      "text/plain": [
       "<Figure size 432x288 with 1 Axes>"
      ]
     },
     "metadata": {
      "needs_background": "light"
     },
     "output_type": "display_data"
    }
   ],
   "source": [
    "h = 1\n",
    "df_true = np.float64(5.403023058681e-01)\n",
    "error = []\n",
    "\n",
    "for i in range(16):\n",
    "    dx = (np.sin(x+h)-np.sin(x))/h\n",
    "    error.append(np.abs(df_true-dx)) # エラーを格納\n",
    "    h /= 10\n",
    "\n",
    "plt.plot(error)\n",
    "plt.xlabel(\"n h=10-n\")\n",
    "plt.ylabel(\"誤差\", fontname = 'MS Gothic')\n",
    "plt.yscale(\"log\")"
   ]
  },
  {
   "cell_type": "markdown",
   "metadata": {},
   "source": []
  }
 ],
 "metadata": {
  "kernelspec": {
   "display_name": "pytorch",
   "language": "python",
   "name": "python3"
  },
  "language_info": {
   "codemirror_mode": {
    "name": "ipython",
    "version": 3
   },
   "file_extension": ".py",
   "mimetype": "text/x-python",
   "name": "python",
   "nbconvert_exporter": "python",
   "pygments_lexer": "ipython3",
   "version": "3.7.10"
  },
  "orig_nbformat": 4
 },
 "nbformat": 4,
 "nbformat_minor": 2
}
