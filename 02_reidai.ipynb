{
 "cells": [
  {
   "attachments": {},
   "cell_type": "markdown",
   "metadata": {},
   "source": [
    "# 例題2-1"
   ]
  },
  {
   "cell_type": "code",
   "execution_count": 4,
   "metadata": {},
   "outputs": [
    {
     "name": "stdout",
     "output_type": "stream",
     "text": [
      "255 1\n"
     ]
    }
   ],
   "source": [
    "import numpy as np\n",
    "\n",
    "print(np.uint8(255), np.uint8(257))"
   ]
  },
  {
   "attachments": {},
   "cell_type": "markdown",
   "metadata": {},
   "source": [
    "# 例題2-2"
   ]
  },
  {
   "cell_type": "code",
   "execution_count": 6,
   "metadata": {},
   "outputs": [
    {
     "name": "stdout",
     "output_type": "stream",
     "text": [
      "i=1, a=1\n",
      "i=2, a=2\n",
      "i=3, a=6\n",
      "i=4, a=24\n",
      "i=5, a=120\n",
      "i=6, a=720\n",
      "i=7, a=5040\n",
      "i=8, a=-25216\n",
      "i=9, a=-30336\n",
      "i=10, a=24320\n",
      "i=11, a=5376\n",
      "i=12, a=-1024\n",
      "i=13, a=-13312\n",
      "i=14, a=10240\n",
      "i=15, a=22528\n",
      "i=16, a=-32768\n",
      "i=17, a=-32768\n",
      "i=18, a=0\n",
      "i=19, a=0\n",
      "i=20, a=0\n",
      "i=21, a=0\n",
      "i=22, a=0\n",
      "i=23, a=0\n",
      "i=24, a=0\n"
     ]
    },
    {
     "name": "stderr",
     "output_type": "stream",
     "text": [
      "c:\\Users\\kyosh\\miniconda3\\envs\\pytorch\\lib\\site-packages\\ipykernel_launcher.py:4: RuntimeWarning: overflow encountered in short_scalars\n",
      "  after removing the cwd from sys.path.\n"
     ]
    }
   ],
   "source": [
    "a = np.int16(1)\n",
    "\n",
    "for i in range(24):\n",
    "    a *= np.int16(i+1)\n",
    "    print(\"i={}, a={}\".format(i+1, a))"
   ]
  },
  {
   "cell_type": "code",
   "execution_count": 7,
   "metadata": {},
   "outputs": [
    {
     "name": "stdout",
     "output_type": "stream",
     "text": [
      "i=1, a=1\n",
      "i=2, a=2\n",
      "i=3, a=6\n",
      "i=4, a=24\n",
      "i=5, a=120\n",
      "i=6, a=720\n",
      "i=7, a=5040\n",
      "i=8, a=40320\n",
      "i=9, a=362880\n",
      "i=10, a=3628800\n",
      "i=11, a=39916800\n",
      "i=12, a=479001600\n",
      "i=13, a=1932053504\n",
      "i=14, a=1278945280\n",
      "i=15, a=2004310016\n",
      "i=16, a=2004189184\n",
      "i=17, a=-288522240\n",
      "i=18, a=-898433024\n",
      "i=19, a=109641728\n",
      "i=20, a=-2102132736\n",
      "i=21, a=-1195114496\n",
      "i=22, a=-522715136\n",
      "i=23, a=862453760\n",
      "i=24, a=-775946240\n"
     ]
    },
    {
     "name": "stderr",
     "output_type": "stream",
     "text": [
      "c:\\Users\\kyosh\\miniconda3\\envs\\pytorch\\lib\\site-packages\\ipykernel_launcher.py:4: RuntimeWarning: overflow encountered in long_scalars\n",
      "  after removing the cwd from sys.path.\n"
     ]
    }
   ],
   "source": [
    "a = np.int32(1)\n",
    "\n",
    "for i in range(24):\n",
    "    a *= np.int32(i+1)\n",
    "    print(\"i={}, a={}\".format(i+1, a))"
   ]
  },
  {
   "cell_type": "code",
   "execution_count": null,
   "metadata": {},
   "outputs": [],
   "source": []
  }
 ],
 "metadata": {
  "kernelspec": {
   "display_name": "pytorch",
   "language": "python",
   "name": "python3"
  },
  "language_info": {
   "codemirror_mode": {
    "name": "ipython",
    "version": 3
   },
   "file_extension": ".py",
   "mimetype": "text/x-python",
   "name": "python",
   "nbconvert_exporter": "python",
   "pygments_lexer": "ipython3",
   "version": "3.7.10"
  },
  "orig_nbformat": 4
 },
 "nbformat": 4,
 "nbformat_minor": 2
}
