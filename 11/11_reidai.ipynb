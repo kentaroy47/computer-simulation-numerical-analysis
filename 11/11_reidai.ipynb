{
 "cells": [
  {
   "cell_type": "code",
   "execution_count": 1,
   "metadata": {},
   "outputs": [],
   "source": [
    "import numpy as np"
   ]
  },
  {
   "cell_type": "code",
   "execution_count": 4,
   "metadata": {},
   "outputs": [],
   "source": [
    "N = 3\n",
    "# 例としてすべて1になる配列を定義\n",
    "a = np.ones([N, N])\n",
    "x = np.ones(N)\n",
    "b = np.ones(N)\n",
    "\n",
    "# 前進消去\n",
    "k = 0\n",
    "i = k + 1\n",
    "alpha = a[i,k] / a[k,k]\n",
    "for j in range(k, N):\n",
    "    a[i,j] = a[i,j] - alpha * a[k,j]\n",
    "b[i] = b[i] - alpha * b[k]"
   ]
  },
  {
   "cell_type": "code",
   "execution_count": null,
   "metadata": {},
   "outputs": [],
   "source": [
    "# 前進消去v2\n",
    "k = 0\n",
    "for i in range(k+1, N):\n",
    "    alpha = a[i,k] / a[k,k]\n",
    "    for j in range(k, N):\n",
    "        a[i,j] = a[i,j] - alpha * a[k,j]\n",
    "    b[i] = b[i] - alpha * b[k]"
   ]
  },
  {
   "cell_type": "code",
   "execution_count": null,
   "metadata": {},
   "outputs": [],
   "source": [
    "# 前進消去v3\n",
    "for k in range(N-1):\n",
    "    for i in range(k+1, N):\n",
    "        alpha = a[i,k] / a[k,k]\n",
    "        for j in range(k, N):\n",
    "            a[i,j] = a[i,j] - alpha * a[k,j]\n",
    "        b[i] = b[i] - alpha * b[k]"
   ]
  },
  {
   "cell_type": "code",
   "execution_count": 82,
   "metadata": {},
   "outputs": [],
   "source": [
    "# 例題11-1\n",
    "N = 3\n",
    "a = np.array([[2, 1, -1],\n",
    "             [4, 3, 1],\n",
    "             [1, -1, 2]]).astype(float)\n",
    "b = np.array([2, 14, 7]).astype(float)\n",
    "x = np.array([0, 0, 0])"
   ]
  },
  {
   "cell_type": "code",
   "execution_count": 83,
   "metadata": {},
   "outputs": [],
   "source": [
    "# 前進消去v3\n",
    "for k in range(N-1):\n",
    "    for i in range(k+1, N):\n",
    "        alpha = a[i,k] / a[k,k]\n",
    "        for j in range(k, N):\n",
    "            a[i,j] -= alpha * a[k,j]\n",
    "        b[i] -= alpha * b[k]"
   ]
  },
  {
   "cell_type": "code",
   "execution_count": 84,
   "metadata": {},
   "outputs": [
    {
     "data": {
      "text/plain": [
       "array([[ 2.,  1., -1.],\n",
       "       [ 0.,  1.,  3.],\n",
       "       [ 0.,  0.,  7.]])"
      ]
     },
     "execution_count": 84,
     "metadata": {},
     "output_type": "execute_result"
    }
   ],
   "source": [
    "a"
   ]
  },
  {
   "cell_type": "code",
   "execution_count": 85,
   "metadata": {},
   "outputs": [
    {
     "data": {
      "text/plain": [
       "array([ 2., 10., 21.])"
      ]
     },
     "execution_count": 85,
     "metadata": {},
     "output_type": "execute_result"
    }
   ],
   "source": [
    "b"
   ]
  },
  {
   "cell_type": "code",
   "execution_count": 56,
   "metadata": {},
   "outputs": [
    {
     "data": {
      "text/plain": [
       "array([2, 1, 3])"
      ]
     },
     "execution_count": 56,
     "metadata": {},
     "output_type": "execute_result"
    }
   ],
   "source": [
    "# 前進消去\n",
    "for k in range(N-1):\n",
    "    for i in range(k+1, N):\n",
    "        alpha = a[i,k] / a[k,k]\n",
    "        for j in range(k, N):\n",
    "            a[i,j] -= alpha * a[k,j]\n",
    "        b[i] -= alpha * b[k]\n",
    "# 後退代入\n",
    "x[N-1] = b[N-1] / a[N-1, N-1]\n",
    "for i in range(N-2, -1, -1):\n",
    "    bi = b[i]\n",
    "    for k in range(i+1, N):\n",
    "        bi -= a[i,k] * x[k]\n",
    "    x[i] = bi / a[i,i]\n",
    "x\n",
    "    "
   ]
  },
  {
   "cell_type": "code",
   "execution_count": 55,
   "metadata": {},
   "outputs": [
    {
     "data": {
      "text/plain": [
       "array([2, 1, 3])"
      ]
     },
     "execution_count": 55,
     "metadata": {},
     "output_type": "execute_result"
    }
   ],
   "source": [
    "x"
   ]
  },
  {
   "attachments": {},
   "cell_type": "markdown",
   "metadata": {},
   "source": [
    "# 例題11-3"
   ]
  },
  {
   "cell_type": "code",
   "execution_count": 74,
   "metadata": {},
   "outputs": [
    {
     "data": {
      "text/plain": [
       "2.0"
      ]
     },
     "execution_count": 74,
     "metadata": {},
     "output_type": "execute_result"
    }
   ],
   "source": [
    "N = 8\n",
    "a = np.array([[1, 2, 1, 2, 1, 2, 1, 2],\n",
    "             [2, 1, 1, 4, 1, 2, 1, 1],\n",
    "             [1, 3, -1, 2, -1, 2, 1, -1],\n",
    "             [3, -1, 1, -2, 3, 1, -1, 1],\n",
    "             [2, 2, 2, 0, -1, 3, 1, 2],\n",
    "             [4, -1, -1, -2, 3, 2, 0, 1],\n",
    "             [1, 3, 0, 4, -2, -1, 1, 2],\n",
    "             [2, -1, 1, 6, 3, 2, 1, -1]]).astype(float)\n",
    "b = np.array([5, 8, -9, -1, 13, -12, 16, 5]).astype(float)\n",
    "x = np.array([0, 0, 0, 0, 0, 0, 0, 0]).astype(float)\n",
    "a[5,5]"
   ]
  },
  {
   "cell_type": "code",
   "execution_count": 76,
   "metadata": {},
   "outputs": [
    {
     "data": {
      "text/plain": [
       "array([ 2. , -1. ,  7. ,  0.5, -2. , -4. ,  5. ,  1. ])"
      ]
     },
     "execution_count": 76,
     "metadata": {},
     "output_type": "execute_result"
    }
   ],
   "source": [
    "# 前進消去\n",
    "for k in range(N-1):\n",
    "    for i in range(k+1, N):\n",
    "        alpha = a[i,k] / a[k,k]\n",
    "        for j in range(k, N):\n",
    "            a[i,j] -= alpha * a[k,j]\n",
    "        b[i] -= alpha * b[k]\n",
    "# 後退代入\n",
    "x[N-1] = b[N-1] / a[N-1, N-1]\n",
    "for i in range(N-1, -1, -1):\n",
    "    bi = b[i]\n",
    "    for k in range(i+1, N):\n",
    "        bi -= a[i,k] * x[k]\n",
    "    x[i] = bi / a[i,i]\n",
    "x\n",
    "    "
   ]
  },
  {
   "cell_type": "code",
   "execution_count": 70,
   "metadata": {},
   "outputs": [
    {
     "data": {
      "text/plain": [
       "array([  5,  -2, -14, -11,   9,   4,  11,   3])"
      ]
     },
     "execution_count": 70,
     "metadata": {},
     "output_type": "execute_result"
    }
   ],
   "source": [
    "b"
   ]
  },
  {
   "cell_type": "code",
   "execution_count": null,
   "metadata": {},
   "outputs": [],
   "source": []
  }
 ],
 "metadata": {
  "kernelspec": {
   "display_name": "pytorch",
   "language": "python",
   "name": "python3"
  },
  "language_info": {
   "codemirror_mode": {
    "name": "ipython",
    "version": 3
   },
   "file_extension": ".py",
   "mimetype": "text/x-python",
   "name": "python",
   "nbconvert_exporter": "python",
   "pygments_lexer": "ipython3",
   "version": "3.7.10"
  },
  "orig_nbformat": 4
 },
 "nbformat": 4,
 "nbformat_minor": 2
}
