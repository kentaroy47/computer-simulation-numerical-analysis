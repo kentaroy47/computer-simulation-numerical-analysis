{
 "cells": [
  {
   "attachments": {},
   "cell_type": "markdown",
   "metadata": {},
   "source": [
    "# 例題6-1"
   ]
  },
  {
   "attachments": {},
   "cell_type": "markdown",
   "metadata": {},
   "source": [
    "区分求積法で積分値を求めよ"
   ]
  },
  {
   "cell_type": "code",
   "execution_count": 3,
   "metadata": {},
   "outputs": [
    {
     "data": {
      "text/plain": [
       "0.8196039600738307"
      ]
     },
     "execution_count": 3,
     "metadata": {},
     "output_type": "execute_result"
    }
   ],
   "source": [
    "import numpy as np\n",
    "\n",
    "def f(x):\n",
    "    return np.cos(x)\n",
    "\n",
    "N = 16\n",
    "sum = 0\n",
    "h = 2/N\n",
    "for i in range(N):\n",
    "    area = f(h*(i+1)) * h\n",
    "    sum += area\n",
    "sum"
   ]
  },
  {
   "attachments": {},
   "cell_type": "markdown",
   "metadata": {},
   "source": [
    "# 6.2"
   ]
  },
  {
   "attachments": {},
   "cell_type": "markdown",
   "metadata": {},
   "source": [
    "上記関数について$2^m$分割し、mを1～10の範囲で変化させよ"
   ]
  },
  {
   "cell_type": "code",
   "execution_count": 5,
   "metadata": {},
   "outputs": [
    {
     "name": "stdout",
     "output_type": "stream",
     "text": [
      "m:1, result:-0.8322936730942848\n",
      "m:2, result:0.5362376164395365\n",
      "m:3, result:0.7482027301689954\n",
      "m:4, result:0.8196039600738307\n",
      "m:5, result:0.8521665429993516\n",
      "m:6, result:0.8697261298730289\n",
      "m:7, result:0.8802702287626528\n",
      "m:8, result:0.8870961324861648\n",
      "m:9, result:0.8917679349826018\n",
      "m:10, result:0.8951056483439143\n"
     ]
    }
   ],
   "source": [
    "for m in np.arange(1,11):\n",
    "    N = np.power(2, m)\n",
    "    sum = 0\n",
    "    h = 2/N\n",
    "    for i in range(N):\n",
    "        area = f(h*(i+1)) * h\n",
    "        sum += area\n",
    "    print(\"m:{}, result:{}\".format(m, sum))"
   ]
  },
  {
   "attachments": {},
   "cell_type": "markdown",
   "metadata": {},
   "source": [
    "# 6.3\n",
    "台形による数値積分を行い、積分精度を比較せよ"
   ]
  },
  {
   "cell_type": "code",
   "execution_count": 8,
   "metadata": {},
   "outputs": [
    {
     "name": "stdout",
     "output_type": "stream",
     "text": [
      "1 0.16051553111946973\n",
      "2 0.28162958383330033\n",
      "3 0.39794303657233965\n",
      "4 0.5076408568086362\n",
      "5 0.6090112467467885\n",
      "6 0.7004723553560162\n",
      "7 0.7805969626264317\n",
      "8 0.8481347508599493\n",
      "9 0.9020318154597825\n",
      "10 0.9414471107591911\n",
      "11 0.9657655742578145\n",
      "12 0.9746077244662774\n",
      "13 0.9678355825879104\n",
      "14 0.9455548256317239\n",
      "15 0.9081131373580271\n"
     ]
    },
    {
     "data": {
      "text/plain": [
       "0.9081131373580271"
      ]
     },
     "execution_count": 8,
     "metadata": {},
     "output_type": "execute_result"
    }
   ],
   "source": [
    "# 台形の公式より\n",
    "N = 16\n",
    "a = 0.; b = 2.\n",
    "h = (b-a)/N\n",
    "\n",
    "y = 0.5*(np.cos(a)+np.cos(b))*h\n",
    "\n",
    "for i in range(1,N):\n",
    "    y += np.cos(a+(i)*h) * h\n",
    "    print(i, y)\n",
    "y"
   ]
  },
  {
   "cell_type": "code",
   "execution_count": null,
   "metadata": {},
   "outputs": [],
   "source": []
  }
 ],
 "metadata": {
  "kernelspec": {
   "display_name": "pytorch",
   "language": "python",
   "name": "python3"
  },
  "language_info": {
   "codemirror_mode": {
    "name": "ipython",
    "version": 3
   },
   "file_extension": ".py",
   "mimetype": "text/x-python",
   "name": "python",
   "nbconvert_exporter": "python",
   "pygments_lexer": "ipython3",
   "version": "3.7.10"
  },
  "orig_nbformat": 4
 },
 "nbformat": 4,
 "nbformat_minor": 2
}
