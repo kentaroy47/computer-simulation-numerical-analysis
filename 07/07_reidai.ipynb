{
 "cells": [
  {
   "attachments": {},
   "cell_type": "markdown",
   "metadata": {},
   "source": [
    "# 例題7-1"
   ]
  },
  {
   "attachments": {},
   "cell_type": "markdown",
   "metadata": {},
   "source": [
    "台形法で指定された関数の積分値を求めよ"
   ]
  },
  {
   "cell_type": "code",
   "execution_count": 3,
   "metadata": {},
   "outputs": [
    {
     "name": "stdout",
     "output_type": "stream",
     "text": [
      "m:3 I:2.566788116666037\n",
      "m:4 I:2.569197178093128\n",
      "m:5 I:2.5697990808718605\n",
      "m:6 I:2.5699495339258727\n",
      "m:7 I:2.5699871457746557\n",
      "m:8 I:2.569996548648434\n",
      "m:9 I:2.5699988993613476\n",
      "m:10 I:2.56999948703924\n",
      "不定積分結果： 2.569999682931835\n"
     ]
    }
   ],
   "source": [
    "import numpy as np\n",
    "\n",
    "def f(x):\n",
    "    return 1+np.cos(x)\n",
    "\n",
    "for m in range(3,11):\n",
    "    N = np.power(2, m)\n",
    "    a = 0; b = 1.57\n",
    "    h = (b-a)/N # 台形底面\n",
    "    y = 0.5*(f(a)+f(b))*h \n",
    "    \n",
    "    for i in range(1,N):\n",
    "        y += f(a+i*h) * h\n",
    "    print(\"m:{} I:{}\".format(m, y))\n",
    "print(\"不定積分結果：\", b+np.sin(b))"
   ]
  },
  {
   "cell_type": "code",
   "execution_count": 5,
   "metadata": {},
   "outputs": [
    {
     "name": "stdout",
     "output_type": "stream",
     "text": [
      "m:3 I:3.141572153713307\n",
      "m:4 I:3.1415875380044858\n",
      "m:5 I:3.1415913748044098\n",
      "m:6 I:3.14159233342693\n",
      "m:7 I:3.1415925730465\n",
      "m:8 I:3.141592632949144\n",
      "m:9 I:3.1415926479246625\n",
      "m:10 I:3.1415926516685304\n",
      "不定積分結果： 3.141592652916487\n"
     ]
    }
   ],
   "source": [
    "# b = 3.14\n",
    "\n",
    "for m in range(3,11):\n",
    "    N = np.power(2, m)\n",
    "    a = 0; b = 3.14\n",
    "    h = (b-a)/N # 台形底面\n",
    "    y = 0.5*(f(a)+f(b))*h \n",
    "    \n",
    "    for i in range(1,N):\n",
    "        y += f(a+i*h) * h\n",
    "    print(\"m:{} I:{}\".format(m, y))\n",
    "print(\"不定積分結果：\", b+np.sin(b))"
   ]
  },
  {
   "attachments": {},
   "cell_type": "markdown",
   "metadata": {},
   "source": [
    "# 7.2\n",
    "台形法を使い、有効数字が6桁になるようにmを設定せよ"
   ]
  },
  {
   "cell_type": "code",
   "execution_count": 8,
   "metadata": {},
   "outputs": [
    {
     "name": "stdout",
     "output_type": "stream",
     "text": [
      "m:3 誤差: 0.9045565621207216\n",
      "m:4 誤差: 0.0035565752373055703\n",
      "m:5 誤差: 0.0008882749392093992\n",
      "m:6 誤差: 0.00022201450997727523\n",
      "m:7 誤差: 5.550023968392548e-05\n",
      "m:8 誤差: 1.3874848202921619e-05\n",
      "m:9 誤差: 3.4686988170662403e-06\n",
      "m:10 誤差: 8.671738781496074e-07\n"
     ]
    }
   ],
   "source": [
    "def f(x):\n",
    "    return np.cos(x)\n",
    "\n",
    "a = 0; b = 2.\n",
    "yold = 0 # 前回の値格納用\n",
    "for m in range(3,11):\n",
    "    N = np.power(2, m)\n",
    "    h = (b-a)/N # 台形底面\n",
    "    y = 0.5*(f(a)+f(b))*h \n",
    "    \n",
    "    for i in range(1,N):\n",
    "        y += f(a+i*h)*h\n",
    "    # yとyoldの差が10^-6以下になったら終了\n",
    "    if 10^-6 > abs(y-yold):\n",
    "        break\n",
    "    else: \n",
    "        print(\"m:{} 誤差: {}\".format(m, abs(y-yold)))\n",
    "        yold = y"
   ]
  },
  {
   "attachments": {},
   "cell_type": "markdown",
   "metadata": {},
   "source": [
    "# 7.3\n",
    "シンプソン法によって積分値を求め、不定積分の値と比較せよ"
   ]
  },
  {
   "cell_type": "code",
   "execution_count": 13,
   "metadata": {},
   "outputs": [
    {
     "name": "stdout",
     "output_type": "stream",
     "text": [
      "Exact integral value:  0.9092974268256817\n",
      "Numerical integral value:  0.9092986624371286\n",
      "Difference:  1.2356114469369572e-06\n"
     ]
    }
   ],
   "source": [
    "a = 0; b = 2; N = 16\n",
    "\n",
    "h = (b - a) / N\n",
    "sum = 0.0\n",
    "\n",
    "for i in range(0, N, 2):\n",
    "    x1 = a + i * h\n",
    "    x2 = a + (i + 1) * h\n",
    "    x3 = a + (i + 2) * h\n",
    "    sum += (h / 3) * (f(x1) + 4 * f(x2) + f(x3))\n",
    "\n",
    "exact_integral = np.sin(2)\n",
    "numerical_integral = sum\n",
    "difference = abs(exact_integral - numerical_integral)\n",
    "\n",
    "print(\"Exact integral value: \", exact_integral)\n",
    "print(\"Numerical integral value: \", numerical_integral)\n",
    "print(\"Difference: \", difference)"
   ]
  },
  {
   "cell_type": "code",
   "execution_count": null,
   "metadata": {},
   "outputs": [],
   "source": []
  }
 ],
 "metadata": {
  "kernelspec": {
   "display_name": "pytorch",
   "language": "python",
   "name": "python3"
  },
  "language_info": {
   "codemirror_mode": {
    "name": "ipython",
    "version": 3
   },
   "file_extension": ".py",
   "mimetype": "text/x-python",
   "name": "python",
   "nbconvert_exporter": "python",
   "pygments_lexer": "ipython3",
   "version": "3.7.10"
  },
  "orig_nbformat": 4
 },
 "nbformat": 4,
 "nbformat_minor": 2
}
