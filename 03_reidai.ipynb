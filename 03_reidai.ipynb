{
 "cells": [
  {
   "attachments": {},
   "cell_type": "markdown",
   "metadata": {},
   "source": [
    "# 例題3-1"
   ]
  },
  {
   "attachments": {},
   "cell_type": "markdown",
   "metadata": {},
   "source": [
    "10.0 を N で割った数値 x を計算する。\n",
    "\n",
    "x を N 回足した数値 sum を求めて表示する。\n",
    "\n",
    "さらに、得られた sum を 10.0 と比較し、\n",
    "\n",
    "　等しければ “sum is equal to 10.0”、\n",
    "\n",
    "　異なる時は “sum is NOT equal to 10.0”\n",
    "\n",
    "と表示する。  \n"
   ]
  },
  {
   "cell_type": "code",
   "execution_count": 2,
   "metadata": {},
   "outputs": [
    {
     "name": "stdout",
     "output_type": "stream",
     "text": [
      "sum is equal to 10.0\n"
     ]
    }
   ],
   "source": [
    "import numpy as np\n",
    "\n",
    "# float32型でxを作成\n",
    "a = np.float32(10.0)\n",
    "N = 80\n",
    "x = np.float32(a / N)\n",
    "\n",
    "sum = np.float32(0) # sum変数を作成\n",
    "for _ in range(N):\n",
    "    sum += x\n",
    "    \n",
    "if sum == a:\n",
    "    print(\"sum is equal to 10.0\")\n",
    "else:\n",
    "    print(\"sum is NOT equal to 10.0\")\n",
    "    print(a, sum)"
   ]
  },
  {
   "cell_type": "code",
   "execution_count": 3,
   "metadata": {},
   "outputs": [
    {
     "name": "stdout",
     "output_type": "stream",
     "text": [
      "sum is NOT equal to 10.0\n",
      "10.0 9.99999999999998\n"
     ]
    }
   ],
   "source": [
    "import numpy as np\n",
    "\n",
    "# float32型でxを作成\n",
    "a = np.float64(10.0)\n",
    "N = 90\n",
    "x = np.float64(a / N)\n",
    "\n",
    "sum = np.float64(0) # sum変数を作成\n",
    "for _ in range(N):\n",
    "    sum += x\n",
    "    \n",
    "if sum == a:\n",
    "    print(\"sum is equal to 10.0\")\n",
    "else:\n",
    "    print(\"sum is NOT equal to 10.0\")\n",
    "    print(a, sum)"
   ]
  },
  {
   "attachments": {},
   "cell_type": "markdown",
   "metadata": {},
   "source": [
    "# 例題3-2"
   ]
  },
  {
   "cell_type": "code",
   "execution_count": 4,
   "metadata": {},
   "outputs": [
    {
     "name": "stdout",
     "output_type": "stream",
     "text": [
      "z1 = 5960000.0\n",
      "z2 = 5960013.740000129\n"
     ]
    }
   ],
   "source": [
    "import numpy as np\n",
    "\n",
    "# float32型でxとyを宣言\n",
    "x = np.float32(5.96e6)\n",
    "y = np.float32(6.87e-2)\n",
    "\n",
    "# z1の計算\n",
    "z1 = x\n",
    "for i in range(200):\n",
    "    z1 += y\n",
    "\n",
    "# z2の計算\n",
    "z2 = x + y * 200\n",
    "\n",
    "# 結果の表示\n",
    "print(\"z1 =\", z1)\n",
    "print(\"z2 =\", z2)"
   ]
  },
  {
   "cell_type": "code",
   "execution_count": 5,
   "metadata": {},
   "outputs": [
    {
     "name": "stdout",
     "output_type": "stream",
     "text": [
      "z1 = 5960013.7399999425\n",
      "z2 = 5960013.74\n"
     ]
    }
   ],
   "source": [
    "import numpy as np\n",
    "\n",
    "# float64型でxとyを宣言\n",
    "x = np.float64(5.96e6)\n",
    "y = np.float64(6.87e-2)\n",
    "\n",
    "# z1の計算\n",
    "z1 = x\n",
    "for i in range(200):\n",
    "    z1 += y\n",
    "\n",
    "# z2の計算\n",
    "z2 = x + y * 200\n",
    "\n",
    "# 結果の表示\n",
    "print(\"z1 =\", z1)\n",
    "print(\"z2 =\", z2)"
   ]
  },
  {
   "attachments": {},
   "cell_type": "markdown",
   "metadata": {},
   "source": [
    "# 例題3-3"
   ]
  },
  {
   "cell_type": "code",
   "execution_count": 6,
   "metadata": {},
   "outputs": [
    {
     "name": "stdout",
     "output_type": "stream",
     "text": [
      "0.0 100.0 100.0\n"
     ]
    }
   ],
   "source": [
    "y = np.sqrt(np.float16(10001.)) \n",
    "x = np.sqrt(np.float16(10000.))\n",
    "out = y - x\n",
    "print(out, y, x)"
   ]
  },
  {
   "cell_type": "code",
   "execution_count": 18,
   "metadata": {},
   "outputs": [
    {
     "name": "stdout",
     "output_type": "stream",
     "text": [
      "0.0049972534 100.005 100.0\n"
     ]
    }
   ],
   "source": [
    "y = np.sqrt(np.float32(10001.)) \n",
    "x = np.sqrt(np.float32(10000.))\n",
    "out = y - x\n",
    "print(out, y, x)"
   ]
  },
  {
   "cell_type": "code",
   "execution_count": 16,
   "metadata": {},
   "outputs": [
    {
     "name": "stdout",
     "output_type": "stream",
     "text": [
      "0.004999875006248544 100.00499987500625 100.0\n"
     ]
    }
   ],
   "source": [
    "y = np.sqrt(np.float64(10001.)) \n",
    "x = np.sqrt(np.float64(10000.))\n",
    "out = y - x\n",
    "print(out, y, x)"
   ]
  },
  {
   "attachments": {},
   "cell_type": "markdown",
   "metadata": {},
   "source": [
    "# matplotlib"
   ]
  },
  {
   "cell_type": "code",
   "execution_count": 53,
   "metadata": {},
   "outputs": [
    {
     "data": {
      "image/png": "[encoded data removed]",
      "text/plain": [
       "<Figure size 432x288 with 1 Axes>"
      ]
     },
     "metadata": {
      "needs_background": "light"
     },
     "output_type": "display_data"
    }
   ],
   "source": [
    "import matplotlib.pyplot as plt\n",
    "\n",
    "x = np.arange(-10, 11, 1)\n",
    "y = x ** 2\n",
    "\n",
    "plt.plot(x, y, label=\"y=x^2\")\n",
    "plt.xlabel(\"x\")\n",
    "plt.ylabel(\"y\")\n",
    "plt.legend()\n",
    "plt.show()"
   ]
  },
  {
   "cell_type": "code",
   "execution_count": 56,
   "metadata": {},
   "outputs": [
    {
     "data": {
      "image/png": "[encoded data removed]",
      "text/plain": [
       "<Figure size 432x288 with 1 Axes>"
      ]
     },
     "metadata": {
      "needs_background": "light"
     },
     "output_type": "display_data"
    }
   ],
   "source": [
    "x = np.arange(-10, 11, 1)\n",
    "y = x ** 2\n",
    "z = x * 2 + 40\n",
    "\n",
    "plt.plot(x, y, label=\"y=x^2\")\n",
    "plt.plot(x, z, label=\"y=x*2+40\")\n",
    "plt.xlabel(\"x\")\n",
    "plt.ylabel(\"y\")\n",
    "plt.legend()\n",
    "plt.show()"
   ]
  },
  {
   "cell_type": "code",
   "execution_count": null,
   "metadata": {},
   "outputs": [],
   "source": []
  }
 ],
 "metadata": {
  "kernelspec": {
   "display_name": "pytorch",
   "language": "python",
   "name": "python3"
  },
  "language_info": {
   "codemirror_mode": {
    "name": "ipython",
    "version": 3
   },
   "file_extension": ".py",
   "mimetype": "text/x-python",
   "name": "python",
   "nbconvert_exporter": "python",
   "pygments_lexer": "ipython3",
   "version": "3.9.1"
  },
  "orig_nbformat": 4
 },
 "nbformat": 4,
 "nbformat_minor": 2
}
